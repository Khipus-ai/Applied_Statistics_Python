{
 "cells": [
  {
   "cell_type": "markdown",
   "id": "d3de14a7",
   "metadata": {},
   "source": [
    "# Khipus.ai\n",
    "\n",
    "## Applied Statistics with Python\n",
    "\n",
    "### Simple Linear Regression\n",
    "\n",
    "<span>© Copyright Notice 2025, Khipus.ai - All Rights Reserved.</span>\n",
    "\n",
    "# Assignment 3"
   ]
  },
  {
   "cell_type": "markdown",
   "id": "9a7d9b38",
   "metadata": {},
   "source": [
    "## Instructions\n",
    "1. Complete each task below by filling in the appropriate code in the provided cells.\n",
    "2. Ensure that your code runs without errors and produces the expected outputs.\n",
    "3. Submit your completed notebook as instructed by your instructor."
   ]
  },
  {
   "cell_type": "markdown",
   "id": "47a3ddfe",
   "metadata": {},
   "source": [
    "You are given a **student scores** dataset.\n",
    "\n",
    "The data is located in **`student_scores.csv`** and contains two columns:\n",
    "`Hours` (independent variable) and `Scores` (dependent variable).\n",
    "\n",
    "In this assignment you will:\n",
    "- Create a **simple linear regression** model.\n",
    "- Produce a **scatter plot** with the regression line.\n",
    "- Calculate and report the **R‑squared**, **intercept**, and **coefficient**.\n",
    "- **Predict** the expected score for a student who studies **8 hours**."
   ]
  },
  {
   "cell_type": "markdown",
   "id": "7bd369a8",
   "metadata": {},
   "source": [
    "## 1  Import the relevant libraries"
   ]
  },
  {
   "cell_type": "code",
   "execution_count": null,
   "id": "3a2aa641",
   "metadata": {},
   "outputs": [],
   "source": [
    "# Import necessary libraries:\n",
    "#   - numpy\n",
    "#   - pandas\n",
    "#   - matplotlib.pyplot\n",
    "#   - seaborn (and set the theme)\n",
    "#   - LinearRegression from sklearn.linear_model\n",
    "# < Your code here>"
   ]
  },
  {
   "cell_type": "markdown",
   "id": "84df1763",
   "metadata": {},
   "source": [
    "## 2  Load the data"
   ]
  },
  {
   "cell_type": "code",
   "execution_count": null,
   "id": "00be6cdb",
   "metadata": {},
   "outputs": [],
   "source": [
    "\n",
    "# Load the dataset 'student_scores.csv' using pandas and display the first few rows.\n",
    "# < Your code here>"
   ]
  },
  {
   "cell_type": "code",
   "execution_count": null,
   "id": "919de54f",
   "metadata": {},
   "outputs": [],
   "source": [
    "# Display summary statistics of the data using the pandas .describe() method.\n",
    "# < Your code here>\n",
    "# Summary statistics\n"
   ]
  },
  {
   "cell_type": "markdown",
   "id": "80258775",
   "metadata": {},
   "source": [
    "## 3  Create the regression"
   ]
  },
  {
   "cell_type": "markdown",
   "id": "cdee9ce6",
   "metadata": {},
   "source": [
    "### 3.1  Declare the variables"
   ]
  },
  {
   "cell_type": "code",
   "execution_count": null,
   "id": "60d73db1",
   "metadata": {},
   "outputs": [],
   "source": [
    "# Independent variable (Hours) and dependent variable (Scores)\n",
    "# < Your code here>"
   ]
  },
  {
   "cell_type": "markdown",
   "id": "3ca54b62",
   "metadata": {},
   "source": [
    "### 3.2  Explore the data"
   ]
  },
  {
   "cell_type": "code",
   "execution_count": null,
   "id": "86b46b4c",
   "metadata": {},
   "outputs": [],
   "source": [
    "# Scatter plot with regression line\n",
    "# Create a scatter plot of x and y.\n",
    "# Calculate the line of best fit using numpy and overlay the regression line onto the plot.\n",
    "# < Your code here>"
   ]
  },
  {
   "cell_type": "markdown",
   "id": "a27ffce7",
   "metadata": {},
   "source": [
    "### 3.3  Transform input into a 2‑D matrix"
   ]
  },
  {
   "cell_type": "code",
   "execution_count": null,
   "id": "4d3a6a4c",
   "metadata": {},
   "outputs": [],
   "source": [
    "\n",
    "# Transform the independent variable into a 2D matrix using reshape.\n",
    "# < Your code here>"
   ]
  },
  {
   "cell_type": "markdown",
   "id": "50b9b870",
   "metadata": {},
   "source": [
    "### 3.4  Fit the model"
   ]
  },
  {
   "cell_type": "code",
   "execution_count": null,
   "id": "24b7e1ed",
   "metadata": {},
   "outputs": [],
   "source": [
    "# Initialize a LinearRegression object and fit it with x_matrix and y.\n",
    "# < Your code here>\n",
    "# Fit simple linear regression\n"
   ]
  },
  {
   "cell_type": "markdown",
   "id": "d96d7828",
   "metadata": {},
   "source": [
    "### 3.5  Model evaluation"
   ]
  },
  {
   "cell_type": "code",
   "execution_count": null,
   "id": "dc435278",
   "metadata": {},
   "outputs": [],
   "source": [
    "# Calculate and display the R-squared value to evaluate the model.\n",
    "# < Your code here>\n",
    "# R‑squared value"
   ]
  },
  {
   "cell_type": "markdown",
   "id": "f3d430ee",
   "metadata": {},
   "source": [
    "### 3.6  Model parameters"
   ]
  },
  {
   "cell_type": "code",
   "execution_count": null,
   "id": "090a5749",
   "metadata": {},
   "outputs": [],
   "source": [
    "# Retrieve and display the intercept of the fitted linear regression model.\n",
    "# < Your code here>\n",
    "# Intercept and coefficient\n"
   ]
  },
  {
   "cell_type": "markdown",
   "id": "316cbd5d",
   "metadata": {},
   "source": [
    "### 3.7  Make a prediction"
   ]
  },
  {
   "cell_type": "code",
   "execution_count": null,
   "id": "9be9cb60",
   "metadata": {},
   "outputs": [],
   "source": [
    "# Predict the score for 8 hours of study\n",
    "# < Your code here>"
   ]
  },
  {
   "cell_type": "markdown",
   "id": "6649a171",
   "metadata": {},
   "source": [
    "## 4  (OPTIONAL) Further evaluation metrics\n",
    "Try calculating MAE, MSE, or plotting residuals to deepen your analysis."
   ]
  }
 ],
 "metadata": {
  "kernelspec": {
   "display_name": "Python 3",
   "language": "python",
   "name": "python3"
  },
  "language_info": {
   "name": "python",
   "version": "3.11.9"
  }
 },
 "nbformat": 4,
 "nbformat_minor": 5
}
