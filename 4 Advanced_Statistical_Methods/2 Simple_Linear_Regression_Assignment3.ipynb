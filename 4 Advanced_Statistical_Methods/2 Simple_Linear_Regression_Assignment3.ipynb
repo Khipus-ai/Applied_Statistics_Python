{
 "cells": [
  {
   "cell_type": "markdown",
   "metadata": {},
   "source": [
    "\n",
    "# Khipus.ai\n",
    "\n",
    "## Applied Statistics with Python\n",
    "\n",
    "### Simple linear regression\n",
    "\n",
    "<span>© Copyright Notice 2025, Khipus.ai - All Rights Reserved.</span>\n",
    "\n",
    "# Assignment 3\n",
    "\n"
   ]
  },
  {
   "cell_type": "markdown",
   "metadata": {},
   "source": [
    "## Instructions\n",
    "1. Complete each task below by filling in the appropriate code in the provided cells.\n",
    "2. Ensure that your code runs without errors and produces the expected outputs.\n",
    "3. Submit your completed notebook as instructed by your instructor."
   ]
  },
  {
   "cell_type": "markdown",
   "metadata": {},
   "source": [
    "You are given a student scores dataset. \n",
    "\n",
    "Real estate is one of those examples that every regression course goes through as it is extremely easy to understand and there is a (almost always) certain causal relationship to be found.\n",
    "\n",
    "The data is located in the file: 'student_scores'. \n",
    "\n",
    "You are expected to create a simple linear regression, using the new data. \n",
    "\n",
    "Apart from that, please:\n",
    "-  Create a scatter plot (with or without a regression line)\n",
    "-  Calculate the R-squared\n",
    "-  Display the intercept and coefficient(s)\n",
    "-  Using the model to make a prediction about the score for 8 hours of study\n",
    "\n",
    "Note: In this exercise, the dependent variable is 'Scores', while the independent variable is 'Hours'.\n"
   ]
  },
  {
   "cell_type": "markdown",
   "metadata": {},
   "source": [
    "## Import the relevant libraries"
   ]
  },
  {
   "cell_type": "code",
   "execution_count": null,
   "metadata": {},
   "outputs": [],
   "source": [
    "# Import necessary libraries:\n",
    "#   - numpy\n",
    "#   - pandas\n",
    "#   - matplotlib.pyplot\n",
    "#   - seaborn (and set the theme)\n",
    "#   - LinearRegression from sklearn.linear_model\n",
    "# < Your code here>"
   ]
  },
  {
   "cell_type": "markdown",
   "metadata": {},
   "source": [
    "## Load the data"
   ]
  },
  {
   "cell_type": "code",
   "execution_count": null,
   "metadata": {},
   "outputs": [],
   "source": [
    "# Load the dataset 'student_scores.csv' using pandas and display the first few rows.\n",
    "# < Your code here>"
   ]
  },
  {
   "cell_type": "code",
   "execution_count": null,
   "metadata": {},
   "outputs": [],
   "source": [
    "# Display summary statistics of the data using the pandas .describe() method.\n",
    "# < Your code here>"
   ]
  },
  {
   "cell_type": "markdown",
   "metadata": {},
   "source": [
    "## Create the regression"
   ]
  },
  {
   "cell_type": "markdown",
   "metadata": {},
   "source": [
    "### Declare the dependent and the independent variables"
   ]
  },
  {
   "cell_type": "code",
   "execution_count": null,
   "metadata": {},
   "outputs": [],
   "source": [
    "# Declare the independent variable 'Hours' as x and the dependent variable 'Scores' as y.\n",
    "# < Your code here>\n",
    "#independent variable\n",
    "#dependent variable"
   ]
  },
  {
   "cell_type": "markdown",
   "metadata": {},
   "source": [
    "### Explore the data"
   ]
  },
  {
   "cell_type": "code",
   "execution_count": null,
   "metadata": {},
   "outputs": [],
   "source": [
    "# Create a scatter plot of x and y.\n",
    "# Calculate the line of best fit using numpy and overlay the regression line onto the plot.\n",
    "# < Your code here>"
   ]
  },
  {
   "cell_type": "markdown",
   "metadata": {},
   "source": [
    "### Transform the inputs into a matrix (2D object)"
   ]
  },
  {
   "cell_type": "code",
   "execution_count": null,
   "metadata": {},
   "outputs": [],
   "source": [
    "# Transform the independent variable into a 2D matrix using reshape.\n",
    "# < Your code here>"
   ]
  },
  {
   "cell_type": "markdown",
   "metadata": {},
   "source": [
    "### Regression itself"
   ]
  },
  {
   "cell_type": "code",
   "execution_count": null,
   "metadata": {},
   "outputs": [],
   "source": [
    "# Initialize a LinearRegression object and fit it with x_matrix and y.\n",
    "# < Your code here>\n",
    "# create a linear regression object\n",
    "# fit the data to the model | x_matrix: The matrix of features (independent variables). y: The dependent variable"
   ]
  },
  {
   "cell_type": "markdown",
   "metadata": {},
   "source": [
    "### Calculate the R-squared"
   ]
  },
  {
   "cell_type": "code",
   "execution_count": null,
   "metadata": {},
   "outputs": [],
   "source": [
    "# Calculate and display the R-squared value to evaluate the model.\n",
    "# < Your code here>\n",
    "# R-squared value to evaluate the model"
   ]
  },
  {
   "cell_type": "markdown",
   "metadata": {},
   "source": [
    "### Find the intercept"
   ]
  },
  {
   "cell_type": "code",
   "execution_count": null,
   "metadata": {},
   "outputs": [],
   "source": [
    "# Retrieve and display the intercept of the fitted linear regression model.\n",
    "# < Your code here>\n",
    "# intercept of the model"
   ]
  },
  {
   "cell_type": "markdown",
   "metadata": {},
   "source": [
    "### Find the coefficients"
   ]
  },
  {
   "cell_type": "code",
   "execution_count": null,
   "metadata": {},
   "outputs": [],
   "source": [
    "# Retrieve and display the coefficient(s) of the model.\n",
    "# < Your code here>"
   ]
  },
  {
   "cell_type": "markdown",
   "metadata": {},
   "source": [
    "### Making predictions\n",
    "\n",
    "Using the model to make a prediction about the score for 8 hours of study"
   ]
  },
  {
   "cell_type": "code",
   "execution_count": null,
   "metadata": {},
   "outputs": [],
   "source": [
    "# Use the fitted model to predict the score for 8 hours of study.\n",
    "# < Your code here>"
   ]
  },
  {
   "cell_type": "markdown",
   "metadata": {},
   "source": [
    "## Evaluating Linear Regression Models"
   ]
  },
  {
   "cell_type": "code",
   "execution_count": null,
   "metadata": {},
   "outputs": [],
   "source": [
    "# <your code here>\n",
    "from sklearn.metrics import mean_squared_error\n",
    "\n",
    "\n",
    "# Predict the values using the regression model\n",
    "y_pred = reg.predict(x_matrix)\n",
    "\n",
    "# Calculate the Mean Squared Error\n",
    "mse = mean_squared_error(y, y_pred)\n",
    "\n",
    "# Calculate the Root Mean Squared Error\n",
    "rmse = np.sqrt(mse)\n",
    "rmse"
   ]
  },
  {
   "cell_type": "markdown",
   "metadata": {},
   "source": []
  }
 ],
 "metadata": {
  "kernelspec": {
   "display_name": "base",
   "language": "python",
   "name": "python3"
  },
  "language_info": {
   "codemirror_mode": {
    "name": "ipython",
    "version": 3
   },
   "file_extension": ".py",
   "mimetype": "text/x-python",
   "name": "python",
   "nbconvert_exporter": "python",
   "pygments_lexer": "ipython3",
   "version": "3.11.7"
  }
 },
 "nbformat": 4,
 "nbformat_minor": 2
}
