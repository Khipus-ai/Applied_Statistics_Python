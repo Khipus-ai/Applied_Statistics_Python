{
 "cells": [
  {
   "cell_type": "markdown",
   "id": "3956e7c2",
   "metadata": {},
   "source": [
    "# Khipus.ai\n",
    "\n",
    "## Applied Statistics with Python\n",
    "\n",
    "### Descriptive Statistics\n",
    "\n",
    "<span>© Copyright Notice 2025, Khipus.ai - All Rights Reserved.</span>\n",
    "\n",
    "# Assignment 1"
   ]
  },
  {
   "cell_type": "markdown",
   "id": "94dcc983",
   "metadata": {},
   "source": [
    "## Instructions\n",
    "1. Complete each task below by filling in the appropriate code in the provided cells.\n",
    "2. Ensure that your code runs without errors and produces the expected outputs.\n",
    "3. Submit your completed notebook as instructed by your instructor."
   ]
  },
  {
   "cell_type": "code",
   "execution_count": null,
   "id": "e91fb079",
   "metadata": {},
   "outputs": [],
   "source": [
    "# Import necessary libraries\n",
    "import pandas as pd\n",
    "import numpy as np\n",
    "import matplotlib.pyplot as plt"
   ]
  },
  {
   "cell_type": "code",
   "execution_count": null,
   "id": "5a5b1cde",
   "metadata": {},
   "outputs": [],
   "source": [
    "# Load the sales_data.csv file and display the first few rows\n",
    "# sales_data = pd.read_csv('sales_data.csv')\n",
    "# sales_data.head()"
   ]
  },
  {
   "cell_type": "markdown",
   "id": "c1e46b2a",
   "metadata": {},
   "source": [
    "## Task 1: Summary Statistics\n",
    "\n",
    "1. Calculate the mean, median, and mode for the `SALES` column.\n",
    "\n",
    "Expected output:\n",
    "\n",
    "(3553.889071909316, 3184.8, 1841.8651057401805)"
   ]
  },
  {
   "cell_type": "code",
   "execution_count": null,
   "id": "8cf454fb",
   "metadata": {},
   "outputs": [],
   "source": [
    "# Task 1\n",
    "# Calculate the mean, median and mode of the 'SALES' column\n",
    "# mean_sales = sales_data['SALES'].mean()\n",
    "# median_sales = sales_data['SALES'].median()\n",
    "# mode_sales = sales_data['SALES'].mode()[0]\n",
    "# (mean_sales, median_sales, mode_sales)"
   ]
  },
  {
   "cell_type": "markdown",
   "id": "77a9ffe8",
   "metadata": {},
   "source": [
    "2. Calculate the Range on the SALES Column\n",
    "\n",
    "Expected Output:\n",
    "\n",
    "13600.67"
   ]
  },
  {
   "cell_type": "code",
   "execution_count": null,
   "id": "8667184e",
   "metadata": {},
   "outputs": [],
   "source": [
    "# Calculate the range in SALES\n",
    "# sales_range = sales_data['SALES'].max() - sales_data['SALES'].min()\n",
    "# sales_range"
   ]
  },
  {
   "cell_type": "markdown",
   "id": "6f63a2c3",
   "metadata": {},
   "source": [
    "3. Calculate the Percentiles on the SALES Column\n",
    "\n",
    "Expected Output:\n",
    "\n",
    "0.25    2203.43\n",
    "0.50    3184.80\n",
    "0.75    4508.00\n",
    "\n",
    "Name: SALES, dtype: float64"
   ]
  },
  {
   "cell_type": "code",
   "execution_count": null,
   "id": "8a6649bb",
   "metadata": {},
   "outputs": [],
   "source": [
    "# Calculate the percentiles for the SALES column\n",
    "# sales_data['SALES'].quantile([0.25, 0.5, 0.75])"
   ]
  },
  {
   "cell_type": "markdown",
   "id": "7fa4ed93",
   "metadata": {},
   "source": [
    "4. Calculate the standard deviation for the `SALES` column.\n",
    "\n",
    "Expected output:\n",
    "\n",
    "1841.8651057401805"
   ]
  },
  {
   "cell_type": "code",
   "execution_count": null,
   "id": "64bbb52c",
   "metadata": {},
   "outputs": [],
   "source": [
    "# Calculate standard deviation for the SALES column\n",
    "# sales_data['SALES'].std()"
   ]
  },
  {
   "cell_type": "markdown",
   "id": "63191bcb",
   "metadata": {},
   "source": [
    "## Task 2: Visualizing Data\n",
    "\n",
    "1. Plot a histogram of the `SALES` column to visualize its distribution.\n",
    "\n",
    "Expected Output:\n",
    "\n",
    "A histogram displaying the sales distribution."
   ]
  },
  {
   "cell_type": "code",
   "execution_count": null,
   "id": "787f5b45",
   "metadata": {},
   "outputs": [],
   "source": [
    "# Plot a histogram of SALES\n",
    "# plt.figure(figsize=(10,6))\n",
    "# sales_data['SALES'].hist(bins=20)\n",
    "# plt.title('Histogram of Sales')\n",
    "# plt.xlabel('Sales Amount')\n",
    "# plt.ylabel('Frequency')\n",
    "# plt.show()"
   ]
  },
  {
   "cell_type": "markdown",
   "id": "969d70f5",
   "metadata": {},
   "source": [
    "2. Create a boxplot of the `SALES` column to identify any outliers.\n",
    "\n",
    "Expected Output:\n",
    "\n",
    "A boxplot showing distribution and outliers."
   ]
  },
  {
   "cell_type": "code",
   "execution_count": null,
   "id": "c59177cd",
   "metadata": {},
   "outputs": [],
   "source": [
    "# Create a boxplot of SALES\n",
    "# plt.figure(figsize=(8,5))\n",
    "# plt.boxplot(sales_data['SALES'])\n",
    "# plt.title('Boxplot of Sales')\n",
    "# plt.ylabel('Sales Amount')\n",
    "# plt.show()"
   ]
  },
  {
   "cell_type": "markdown",
   "id": "8dab608c",
   "metadata": {},
   "source": [
    "3. Create a bar plot showing the number of orders for each country.\n",
    "\n",
    "Expected Output:\n",
    "\n",
    "A bar chart with countries and order counts."
   ]
  },
  {
   "cell_type": "code",
   "execution_count": null,
   "id": "e4ac2c93",
   "metadata": {},
   "outputs": [],
   "source": [
    "# Number of orders by country\n",
    "# country_counts = sales_data['COUNTRY'].value_counts()\n",
    "# country_counts.plot(kind='bar', figsize=(12,6))\n",
    "# plt.title('Number of Orders by Country')\n",
    "# plt.xlabel('Country')\n",
    "# plt.ylabel('Number of Orders')\n",
    "# plt.show()"
   ]
  },
  {
   "cell_type": "markdown",
   "id": "2fc556cb",
   "metadata": {},
   "source": [
    "4. Create a pie chart to visualize the distribution of deal sizes.\n",
    "\n",
    "Expected Output:\n",
    "\n",
    "A pie chart showing Small, Medium, and Large deal sizes."
   ]
  },
  {
   "cell_type": "code",
   "execution_count": null,
   "id": "62c97f14",
   "metadata": {},
   "outputs": [],
   "source": [
    "# Distribution of deal sizes\n",
    "# deal_size_counts = sales_data['DEALSIZE'].value_counts()\n",
    "# deal_size_counts.plot(kind='pie', autopct='%1.1f%%', figsize=(8,8), title='Distribution of Deal Sizes')\n",
    "# plt.ylabel('')\n",
    "# plt.show()"
   ]
  },
  {
   "cell_type": "markdown",
   "id": "741b62ab",
   "metadata": {},
   "source": [
    "## Task 3: Correlation Analysis\n",
    "\n",
    "1. Calculate the correlation between `QUANTITYORDERED` and `SALES`.\n",
    "\n",
    "Expected output:\n",
    "\n",
    "0.5514261919183567"
   ]
  },
  {
   "cell_type": "code",
   "execution_count": null,
   "id": "b924c156",
   "metadata": {},
   "outputs": [],
   "source": [
    "# Calculate correlation between QUANTITYORDERED and SALES\n",
    "# sales_data['QUANTITYORDERED'].corr(sales_data['SALES'])"
   ]
  }
 ],
 "metadata": {},
 "nbformat": 4,
 "nbformat_minor": 5
}
