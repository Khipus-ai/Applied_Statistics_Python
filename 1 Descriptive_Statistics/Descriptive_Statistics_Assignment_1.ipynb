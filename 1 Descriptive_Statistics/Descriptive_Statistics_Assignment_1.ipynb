{
 "cells": [
  {
   "cell_type": "markdown",
   "id": "b2015842",
   "metadata": {},
   "source": [
    "\n",
    "# Khipus.ai\n",
    "\n",
    "## Applied Statistics with Python\n",
    "\n",
    "### Descriptive Statistics\n",
    "\n",
    "<span>© Copyright Notice 2025, Khipus.ai - All Rights Reserved.</span>\n",
    "\n",
    "# Assignment 1\n",
    "\n"
   ]
  },
  {
   "cell_type": "markdown",
   "id": "467e1301",
   "metadata": {},
   "source": [
    "## Instructions\n",
    "1. Complete each task below by filling in the appropriate code in the provided cells.\n",
    "2. Ensure that your code runs without errors and produces the expected outputs.\n",
    "3. Submit your completed notebook as instructed by your instructor."
   ]
  },
  {
   "cell_type": "code",
   "execution_count": null,
   "id": "ec140aba",
   "metadata": {},
   "outputs": [],
   "source": [
    "# Import necessary libraries: pandas, numpy, matplotlib.pyplot\n",
    "# < Your code here>\n"
   ]
  },
  {
   "cell_type": "code",
   "execution_count": null,
   "id": "315de768",
   "metadata": {},
   "outputs": [],
   "source": [
    "# Load the sales_data.csv file and display the first few rows using pandas\n",
    "# < Your code here>"
   ]
  },
  {
   "cell_type": "markdown",
   "id": "b218648e",
   "metadata": {},
   "source": [
    "\n",
    "## Task 1: Summary Statistics\n",
    "\n",
    "1. Calculate the mean, median,and mode for the `SALES` column.\n",
    "\n",
    "Expected output:\n",
    "\n",
    "(3553.889071909316, 3184.8, 1841.8651057401805)"
   ]
  },
  {
   "cell_type": "code",
   "execution_count": null,
   "id": "a7dd9d74",
   "metadata": {},
   "outputs": [],
   "source": [
    "# Task 1\n",
    "# Calculate the mean, median and mode of the 'SALES' column\n",
    "\n",
    "#<your code goes here>\n",
    "\n",
    "# Print the summary statistics\n"
   ]
  },
  {
   "cell_type": "markdown",
   "id": "ecf757c6",
   "metadata": {},
   "source": [
    "2. Calculate the Range on the SALES Column\n",
    "\n",
    "Expected Output:\n",
    "\n",
    "13600.67"
   ]
  },
  {
   "cell_type": "code",
   "execution_count": null,
   "id": "e6543b77",
   "metadata": {},
   "outputs": [],
   "source": [
    "# Calculate the range in SALES\n",
    "#<your code goes here>\n"
   ]
  },
  {
   "cell_type": "markdown",
   "id": "42f408fa",
   "metadata": {},
   "source": [
    "3. Calculate the Percentiles on the SALES Column\n",
    "\n",
    "Expected Output:\n",
    "\n",
    "0.25    2203.43\n",
    "\n",
    "0.50    3184.80\n",
    "\n",
    "0.75    4508.00\n",
    "\n",
    "Name: SALES, dtype: float64"
   ]
  },
  {
   "cell_type": "code",
   "execution_count": null,
   "id": "729123a0",
   "metadata": {},
   "outputs": [],
   "source": [
    "# Calculate the percentiles for the SALES column\n",
    "#<your code goes here>\n"
   ]
  },
  {
   "cell_type": "markdown",
   "id": "96132f7b",
   "metadata": {},
   "source": [
    "4. Calculate the standard deviation for the `SALES` column.\n",
    "\n",
    "Expected output:\n",
    "\n",
    "1841.8651057401805"
   ]
  },
  {
   "cell_type": "code",
   "execution_count": null,
   "id": "57f7b092",
   "metadata": {},
   "outputs": [],
   "source": [
    "\n",
    "# Calculate summary statistics for the SALES column\n",
    "#<your code goes here>\n",
    "\n",
    "\n"
   ]
  },
  {
   "cell_type": "markdown",
   "id": "82372246",
   "metadata": {},
   "source": [
    "\n",
    "## Task 2: Visualizing Data\n",
    "\n",
    "1. Plot a histogram of the `SALES` column to visualize its distribution.\n",
    "\n",
    "Customize the histogram with the following:\n",
    "\n",
    "Add a title: \"Histogram of Sales\".\n",
    "\n",
    "Label the x-axis as \"Sales Amount\".\n",
    "\n",
    "Label the y-axis as \"Frequency\".\n",
    "\n",
    "Expected Output:\n",
    "\n",
    "The histogram should display the frequency distribution of sales amounts, showing the shape of the data's distribution."
   ]
  },
  {
   "cell_type": "code",
   "execution_count": null,
   "id": "3ef432e4",
   "metadata": {},
   "outputs": [],
   "source": [
    "\n",
    "# Task 2\n",
    "# Plot a histogram of SALES\n",
    "plt.figure(figsize=(10, 6))\n",
    "\n",
    "#<your code goes here>\n",
    "\n",
    "\n",
    "\n"
   ]
  },
  {
   "cell_type": "markdown",
   "id": "a3d3e6a1",
   "metadata": {},
   "source": [
    "2. Create a boxplot of the `SALES` column to identify any outliers.\n",
    "\n",
    "Customize the boxplot with the following:\n",
    "\n",
    "Add a title: \"Boxplot of Sales\".\n",
    "\n",
    "Label the x-axis as \"Sales Amount\".\n",
    "\n",
    "\n",
    "Expected Output:\n",
    "\n",
    "The boxplot should display the distribution of sales amounts, highlighting the median, interquartile range, and potential outliers."
   ]
  },
  {
   "cell_type": "code",
   "execution_count": null,
   "id": "d3f5f712",
   "metadata": {},
   "outputs": [],
   "source": [
    "# Create a boxplot of SALES\n",
    "plt.figure(figsize=(8, 5))\n",
    "\n",
    "#<your code goes here>\n"
   ]
  },
  {
   "cell_type": "markdown",
   "id": "dc575718",
   "metadata": {},
   "source": [
    "3. Create a bar plot showing the number of orders for each country.\n",
    "\n",
    "Customize the chart with the following:\n",
    "\n",
    "Title: \"Number of Orders by Country\"\n",
    "\n",
    "X-axis label: \"Country\"\n",
    "\n",
    "Y-axis label: \"Number of Orders\"\n",
    "\n",
    "\n",
    "Expected Output:\n",
    "\n",
    "The plot should display countries along the x-axis and the number of orders on the y-axis. The United States is expected to have the highest number of orders."
   ]
  },
  {
   "cell_type": "code",
   "execution_count": null,
   "id": "4fbd1ba3",
   "metadata": {},
   "outputs": [],
   "source": [
    "# Generate a bar chart with the COUNTRY column\n",
    "\n",
    "#<your code goes here>\n",
    "country_counts = sales_data['COUNTRY'].value_counts()\n",
    "\n"
   ]
  },
  {
   "cell_type": "markdown",
   "id": "4a951996",
   "metadata": {},
   "source": [
    "4. Create a pie chart to visualize the distribution of deal sizes.\n",
    "\n",
    "Customize the chart with the following:\n",
    "\n",
    "Include percentage values on the pie chart slices.\n",
    "\n",
    "Assign unique colors to each deal size.\n",
    "\n",
    "Add a title: \"Distribution of Deal Sizes\".\n",
    "\n",
    "Expected Output:\n",
    "\n",
    "The pie chart should show the proportions of Small, Medium, and Large deal sizes with their corresponding percentages."
   ]
  },
  {
   "cell_type": "code",
   "execution_count": null,
   "id": "df6f878b",
   "metadata": {},
   "outputs": [],
   "source": [
    "# Generate a pie chart for the DEALSIZE column\n",
    "\n",
    "#<your code goes here>\n",
    "deal_size_counts = sales_data['DEALSIZE'].value_counts()\n"
   ]
  },
  {
   "cell_type": "markdown",
   "id": "d29e17d9",
   "metadata": {},
   "source": [
    "\n",
    "## Task 3: Correlation Analysis\n",
    "\n",
    "1. Calculate the correlation between `QUANTITYORDERED` and `SALES`.\n",
    "\n",
    "Expected output:\n",
    "\n",
    "0.5514261919183567\n"
   ]
  },
  {
   "cell_type": "code",
   "execution_count": null,
   "id": "8a6d4d9c",
   "metadata": {},
   "outputs": [],
   "source": [
    "\n",
    "# Task 3\n",
    "# Calculate correlation between QUANTITYORDERED and SALES\n",
    "#<your code goes here>\n",
    "\n"
   ]
  }
 ],
 "metadata": {
  "kernelspec": {
   "display_name": "base",
   "language": "python",
   "name": "python3"
  },
  "language_info": {
   "codemirror_mode": {
    "name": "ipython",
    "version": 3
   },
   "file_extension": ".py",
   "mimetype": "text/x-python",
   "name": "python",
   "nbconvert_exporter": "python",
   "pygments_lexer": "ipython3",
   "version": "3.11.7"
  }
 },
 "nbformat": 4,
 "nbformat_minor": 5
}
